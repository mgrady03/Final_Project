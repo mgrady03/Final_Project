{
 "cells": [
  {
   "cell_type": "markdown",
   "metadata": {},
   "source": [
    "## Project: Determining the Best Neighborhood in Pittsburgh\n",
    "\n",
    "**Introduction:**\n",
    "\n",
    "This project aims to determine the best neighborhood in Pittsburgh using a data-driven approach. I will analyze various metrics from datasets provided by the Western Pennsylvania Regional Data Center (WPRDC) to make an informed decision on what constitutes the \"best\" neighborhood.\n",
    "\n",
    "**Approach and Metric Development:**\n",
    "\n",
    "My approach involves developing a metric based on factors such as crime rates, infrastructure quality, and socioeconomic indicators."
   ]
  },
  {
   "cell_type": "code",
   "execution_count": null,
   "metadata": {},
   "outputs": [],
   "source": [
    "# Import necessary libraries\n",
    "import pandas as pd\n",
    "import matplotlib.pyplot as plt\n",
    "\n",
    "# Load datasets\n",
    "police_data = pd.read_csv('Blotter.csv')\n",
    "data_311 = pd.read_csv('311.csv')\n",
    "snap_data = pd.read_csv('SNAP.csv')\n",
    "\n",
    "# Calculate average crime rate per neighborhood\n",
    "crime_rates = police_data.groupby('neighborhood')['incident_count'].mean()\n",
    "# Calculate average number of 311 requests per neighborhood\n",
    "service_requests = data_311.groupby('neighborhood')['request_count'].mean()\n",
    "# Calculate socioeconomic index based on SNAP participation\n",
    "snap_participation = snap_data.groupby('neighborhood')['participants_count'].sum()\n",
    "\n",
    "# Combine metrics into a single score\n",
    "neighborhood_scores = crime_rates + service_requests - snap_participation\n",
    "\n",
    "# Determine the best neighborhood\n",
    "best_neighborhood = neighborhood_scores.idxmax()\n",
    "best_score = neighborhood_scores.max()\n",
    "\n",
    "# Data visualization\n",
    "# Plotting neighborhood scores\n",
    "plt.figure(figsize=(10, 6))\n",
    "neighborhood_scores.sort_values().plot(kind='barh', color='skyblue')\n",
    "plt.xlabel('Score')\n",
    "plt.title('Neighborhood Scores Based on Metrics')\n",
    "plt.grid(True)\n",
    "plt.tight_layout()\n",
    "plt.show()\n",
    "\n",
    "# The best neighborhood\n",
    "print(f\"The best neighborhood in Pittsburgh is {best_neighborhood} with a score of {best_score}.\")\n",
    "print(\"This conclusion is based on my analysis of crime rates, infrastructure issues, and socioeconomic conditions.\")"
   ]
  },
  {
   "cell_type": "markdown",
   "metadata": {},
   "source": [
    "## Conclusion\n",
    "\n",
    "**Reflection:**\n",
    "\n",
    "The data-driven determination of the best neighborhood aligns closely with my personal favorite, but the metrics provided deeper insights into what makes a neighborhood "better" than the others. While personal preferences may lean towards outward appearance, the data reaffirms that factors like safety, infrastructure, and community are crucial in defining the best neighborhood.\n",  
]
  }
 ],
 "metadata": {
  "kernelspec": {
   "display_name": "Python 3",
   "language": "python",
   "name": "python3"
  },
  "language_info": {
   "codemirror_mode": {
    "name": "ipython",
    "version": 3
   },
   "file_extension": ".py",
   "mimetype": "text/x-python",
   "name": "python",
   "nbconvert_exporter": "python",
   "pygments_lexer": "ipython3",
   "version": "3.8.5"
  }
 },
 "nbformat": 4,
 "nbformat_minor": 4
}
