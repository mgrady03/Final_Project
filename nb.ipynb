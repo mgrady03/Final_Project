{
 "cells": [
  {
   "cell_type": "markdown",
   "metadata": {},
   "source": [
    "## Project: Determining the Best Neighborhood in Pittsburgh\n",
    "\n",
    "**Introduction:**\n",
    "\n",
    "This project aims to determine the best neighborhood in Pittsburgh using a data-driven approach. I will analyze various metrics from datasets provided by the Western Pennsylvania Regional Data Center (WPRDC) to make an informed decision on what constitutes the \"best\" neighborhood.\n",
    "\n",
    "**Approach and Metric Development:**\n",
    "\n",
    "My approach involves developing a metric based on factors such as crime rates, infrastructure quality, and socioeconomic indicators."
   ]
  },
  {
   "cell_type": "code",
   "execution_count": null,
   "metadata": {},
   "outputs": [],
   "source": [
    "import pandas as pd\n",
    "import matplotlib.pyplot as plt\n",
    "\n",
    "# Load datasets\n",
    "police_data = pd.read_csv('Blotter.csv')\n",
    "data_311 = pd.read_csv('311.csv')\n",
    "snap_data = pd.read_csv('SNAP.csv')\n",
    "\n",
    "# Calculate average crime rate per neighborhood\n",
    "crime_rates = police_data.groupby('INCIDENTNEIGHBORHOOD').size().mean()\n",
    "\n",
    "# Calculate average number of 311 requests per neighborhood\n",
    "service_requests = data_311.groupby('NEIGHBORHOOD').size().mean()\n",
    "\n",
    "# Calculate socioeconomic index based on SNAP participation\n",
    "snap_participation = snap_data.groupby('Neighborhood_2010_FID_BlockG').size().sum()\n",
    "\n",
    "# Determine the best neighborhood\n",
    "metrics = {\n",
    "    'Crime Rates': crime_rates,\n",
    "    'Service Requests': service_requests,\n",
    "    'SNAP Participation': snap_participation\n",
    "}\n",
    "\n",
    "best_metric = max(metrics, key=metrics.get)\n",
    "best_score = metrics[best_metric]\n",
    "\n",
    "best_neighborhood = None\n",
    "\n",
    "if best_metric == 'Crime Rates':\n",
    "    best_neighborhood = police_data['INCIDENTNEIGHBORHOOD'].mode()[0]\n",
    "elif best_metric == 'Service Requests':\n",
    "    best_neighborhood = data_311['NEIGHBORHOOD'].mode()[0]\n",
    "elif best_metric == 'SNAP Participation':\n",
    "    best_neighborhood = snap_data['Neighborhood_2010_FID_BlockG'].mode()[0]\n",
    "\n",
    "# Print the best neighborhood based on the highest scoring metric\n",
    "print(f\"The best neighborhood in Pittsburgh based on '{best_metric}' is '{best_neighborhood}' with a score of {best_score:.2f}.\")\n",
    "print(\"This conclusion is based on analysis of crime rates, service requests, and SNAP participation.\")\n",
    "\n",
    "# Data visualization\n",
    "plt.figure(figsize=(10, 6))\n",
    "plt.barh([best_metric], [best_score], color='skyblue')\n",
    "plt.xlabel('Score')\n",
    "plt.title('Best Neighborhood Based on Metrics')\n",
    "plt.grid(True)\n",
    "plt.tight_layout()\n",
    "plt.show()\n"
   ]
  },
  {
   "cell_type": "markdown",
   "metadata": {},
   "source": [
    "## Conclusion\n",
    "\n",
    "**Reflection:**\n",
    "\n",
    "The metrics provide insights into what truly makes a neighborhood “better” than other ones. While preferences tend to highlight aesthetics, the data reiterates that factors such as safety, infrastructure quality, and community are critical in defining the whatever the best neighborhood is.\n",
    "\n",
    "Reflecting on this analysis, I've gained a better understanding of Pittsburgh's neighborhoods and what makes them appealing. This project has allowed me to see the importance of objective data in evaluating community well-being beyond subjective preferences."
   ]
  }
 ],
 "metadata": {
  "kernelspec": {
   "display_name": "\"Python/Mu (mu_venv-38-20230111-210155)\"",
   "language": "python",
   "name": "mu_venv-38-20230111-210155"
  },
  "language_info": {
   "codemirror_mode": {
    "name": "ipython",
    "version": 3
   },
   "file_extension": ".py",
   "mimetype": "text/x-python",
   "name": "python",
   "nbconvert_exporter": "python",
   "pygments_lexer": "ipython3",
   "version": "3.8.12"
  }
 },
 "nbformat": 4,
 "nbformat_minor": 4
}
