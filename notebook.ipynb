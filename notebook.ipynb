{
 "cells": [
  {
   "cell_type": "markdown",
   "metadata": {},
   "source": [
    "# Project: Determining the Best Neighborhood in Pittsburgh\n",
    "In this project, we explore data-driven metrics to determine the best neighborhood in Pittsburgh.\n",
    "We focus on metrics related to education levels, safety, and quality of life."
   ]
  },
  {
   "cell_type": "markdown",
   "metadata": {},
   "source": [
    "## Metrics\n",
    "### Education Levels"
   ]
  },
  {
   "cell_type": "code",
   "metadata": {},
   "source": [
    "# Load education dataset\n",
    "import pandas as pd\n",
    "import matplotlib.pyplot as plt\n",
    "import seaborn as sns\n\n",
    "# Load education dataset\n",
    "education_data = pd.read_csv('PATH')\n\n",
    "# Analyze education levels by neighborhood\n",
    "education_summary = education_data.groupby('Neighborhood')['Education Level'].mean().sort_values(ascending=False).head(10)\n\n",
    "# Plotting education levels\n",
    "plt.figure(figsize=(10, 6))\n",
    "sns.barplot(x=education_summary.values, y=education_summary.index, palette='viridis')\n",
    "plt.title('Top 10 Neighborhoods by Education Level')\n",
    "plt.xlabel('Education Level (Mean)')\n",
    "plt.ylabel('Neighborhood')\n",
    "plt.show()"
   ]
  },
  {
   "cell_type": "markdown",
   "metadata": {},
   "source": [
    "### Safety (Crime Rates)"
   ]
  },
  {
   "cell_type": "code",
   "metadata": {},
   "source": [
    "# Load crime dataset\n",
    "crime_data = pd.read_csv('PATH')\n\n",
    "# Analyze crime rates by neighborhood\n",
    "crime_summary = crime_data.groupby('Neighborhood')['Crime Count'].sum().sort_values().head(10)\n\n",
    "# Plotting crime rates\n",
    "plt.figure(figsize=(10, 6))\n",
    "sns.barplot(x=crime_summary.values, y=crime_summary.index, palette='magma')\n",
    "plt.title('Top 10 Neighborhoods by Crime Rate')\n",
    "plt.xlabel('Crime Count')\n",
    "plt.ylabel('Neighborhood')\n",
    "plt.show()"
   ]
  },
  {
   "cell_type": "markdown",
   "metadata": {},
   "source": [
    "### Quality of Life (Parks)"
   ]
  },
  {
   "cell_type": "code",
   "metadata": {},
   "source": [
    "# Load parks dataset\n",
    "parks_data = pd.read_csv('PATH')\n\n",
    "# Analyze park count by neighborhood\n",
    "parks_summary = parks_data.groupby('Neighborhood')['Park Count'].sum().sort_values(ascending=False).head(10)\n\n",
    "# Plotting park counts\n",
    "plt.figure(figsize=(10, 6))\n",
    "sns.barplot(x=parks_summary.values, y=parks_summary.index, palette='plasma')\n",
    "plt.title('Top 10 Neighborhoods by Park Count')\n",
    "plt.xlabel('Number of Parks')\n",
    "plt.ylabel('Neighborhood')\n",
    "plt.show()"
   ]
  },
  {
   "cell_type": "markdown",
   "metadata": {},
   "source": [
    "## Best Neighborhood\n",
    "Combine metrics into a single metric (if applicable) and determine the best neighborhood based on your analysis."
   ]
  },
  {
   "cell_type": "code",
   "metadata": {},
   "source": [
    "# Example: Combine metrics (weighted average)\n",
    "combined_metric = (education_summary + (1 / crime_summary) + parks_summary) / 3\n",
    "best_neighborhood = combined_metric.idxmax()\n\n",
    "print(f'The best neighborhood in Pittsburgh based on our analysis is: {best_neighborhood}')"
   ]
  },
  {
   "cell_type": "markdown",
   "metadata": {},
   "source": [
    "## Conclusion\n",
    "Reflect on the data-driven determination of the best neighborhood compared to personal preferences."
   ]
  },
  {
   "cell_type": "code",
   "metadata": {},
   "source": [
    "print('### Conclusion ###')\n",
    "print('Our data-driven analysis suggests that the best neighborhood in Pittsburgh is determined by factors such as education levels, safety, and quality of life.')\n",
    "print('These metrics provide a more objective view compared to personal preferences, which may vary.')"
   ]
  }
 ],
 "metadata": {
  "kernelspec": {
   "display_name": "Python 3",
   "language": "python",
   "name": "python3"
  },
  "language_info": {
   "codemirror_mode": {
    "name": "ipython",
    "version": 3
   },
   "file_extension": ".py",
   "mimetype": "text/x-python",
   "name": "python",
   "nbconvert_exporter": "python",
   "pygments_lexer": "ipython3",
   "version": "3.8.8"
  }
 },
 "nbformat": 4,
 "nbformat_minor": 5
}
